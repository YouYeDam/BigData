{
 "cells": [
  {
   "cell_type": "code",
   "execution_count": 5,
   "id": "9d78cfdf",
   "metadata": {},
   "outputs": [
    {
     "data": {
      "image/png": "[encoded data removed]",
      "text/plain": [
       "<Figure size 864x432 with 1 Axes>"
      ]
     },
     "metadata": {
      "needs_background": "light"
     },
     "output_type": "display_data"
    }
   ],
   "source": [
    "import os\n",
    "import pandas as pd\n",
    "import matplotlib.pyplot as plt\n",
    "from matplotlib import font_manager, rc\n",
    "\n",
    "# 파일 경로\n",
    "folder_path = r'C:\\Users\\User\\Desktop\\BigData\\Dataset\\NBusDataset'\n",
    "\n",
    "# 2022년부터 2023년 파일들을 불러오기\n",
    "files_to_read = [f'{year}_NBusData.csv' for year in range(2022, 2024)]\n",
    "\n",
    "df_list = []  # 각 CSV 파일의 데이터프레임을 저장할 리스트\n",
    "\n",
    "for file in files_to_read:\n",
    "    file_path = os.path.join(folder_path, file)\n",
    "    # 'cp949' 인코딩을 사용하여 파일 읽기\n",
    "    df = pd.read_csv(file_path, encoding='cp949')\n",
    "    df_list.append(df)\n",
    "\n",
    "# 모든 데이터프레임을 합치기\n",
    "merged_df = pd.concat(df_list, ignore_index=True)\n",
    "\n",
    "# '사용년월' 컬럼에서 월 부분을 추출하여 새로운 칼럼 만들기\n",
    "merged_df['Month'] = merged_df['사용년월'].astype(str).str[-2:]\n",
    "\n",
    "# N13 노선 및 '외대앞' 정류장에 해당하는 데이터만 필터링\n",
    "n13_waide_df = merged_df[(merged_df['노선번호'] == 'N13') & (merged_df['역명'] == '외대앞')]\n",
    "\n",
    "# 월이 4, 7, 10, 12인 데이터만 추출\n",
    "selected_months = ['04', '07', '10', '12']\n",
    "n13_waide_selected_months_df = n13_waide_df[n13_waide_df['Month'].isin(selected_months)]\n",
    "\n",
    "# 시간대별 승차총승객수의 평균 계산\n",
    "time_columns_boarding = [f'{hour}시승차총승객수' for hour in range(24)]\n",
    "time_passengers_boarding = n13_waide_selected_months_df[time_columns_boarding].mean()\n",
    "\n",
    "# 백만 단위로 변환\n",
    "time_passengers_boarding_million = time_passengers_boarding\n",
    "\n",
    "# 한글 폰트 설정\n",
    "font_path = 'C:/Windows/Fonts/malgun.ttf'  # 'Malgun Gothic' 폰트의 경로로 수정\n",
    "font_name = font_manager.FontProperties(fname=font_path).get_name()\n",
    "rc('font', family=font_name)\n",
    "\n",
    "# 23시부터 1시까지 시각화\n",
    "selected_hours = [23, 0, 1, 2, 3, 4, 5]\n",
    "\n",
    "plt.figure(figsize=(12, 6))\n",
    "plt.bar(range(len(selected_hours)), time_passengers_boarding_million.iloc[selected_hours].values)\n",
    "plt.xticks(range(len(selected_hours)), [f'{hour}시' for hour in selected_hours])\n",
    "plt.xlabel('시간대')\n",
    "plt.ylabel('승차총승객수')\n",
    "plt.title('N13 노선 외대앞 정류장 4, 7, 10, 12월 시간대별 승차총승객수')\n",
    "\n",
    "plt.show()"
   ]
  },
  {
   "cell_type": "code",
   "execution_count": null,
   "id": "2e59604b",
   "metadata": {},
   "outputs": [],
   "source": []
  }
 ],
 "metadata": {
  "kernelspec": {
   "display_name": "Python 3 (ipykernel)",
   "language": "python",
   "name": "python3"
  },
  "language_info": {
   "codemirror_mode": {
    "name": "ipython",
    "version": 3
   },
   "file_extension": ".py",
   "mimetype": "text/x-python",
   "name": "python",
   "nbconvert_exporter": "python",
   "pygments_lexer": "ipython3",
   "version": "3.9.7"
  }
 },
 "nbformat": 4,
 "nbformat_minor": 5
}
