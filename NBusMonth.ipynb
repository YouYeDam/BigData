{
 "cells": [
  {
   "cell_type": "code",
   "execution_count": 1,
   "id": "7d903b83",
   "metadata": {},
   "outputs": [
    {
     "name": "stderr",
     "output_type": "stream",
     "text": [
      "C:\\Users\\User\\anaconda3\\lib\\site-packages\\IPython\\core\\interactiveshell.py:3444: DtypeWarning: Columns (2) have mixed types.Specify dtype option on import or set low_memory=False.\n",
      "  exec(code_obj, self.user_global_ns, self.user_ns)\n"
     ]
    },
    {
     "data": {
      "image/png": "[encoded data removed]",
      "text/plain": [
       "<Figure size 432x288 with 1 Axes>"
      ]
     },
     "metadata": {
      "needs_background": "light"
     },
     "output_type": "display_data"
    }
   ],
   "source": [
    "import os\n",
    "import pandas as pd\n",
    "import matplotlib.pyplot as plt\n",
    "from matplotlib.ticker import FuncFormatter\n",
    "from matplotlib import font_manager, rc\n",
    "\n",
    "# 파일 경로\n",
    "folder_path = r'C:\\Users\\User\\Desktop\\BigData\\Dataset\\NBusDataset'\n",
    "\n",
    "# 2015년부터 2023년 파일들을 불러오기\n",
    "files_to_read = [f'{year}_NBusData.csv' for year in range(2015, 2024)]\n",
    "\n",
    "df_list = []  # 각 CSV 파일의 데이터프레임을 저장할 리스트\n",
    "\n",
    "for file in files_to_read:\n",
    "    file_path = os.path.join(folder_path, file)\n",
    "    # 'cp949' 인코딩을 사용하여 파일 읽기\n",
    "    df = pd.read_csv(file_path, encoding='cp949')\n",
    "    df_list.append(df)\n",
    "\n",
    "# 모든 데이터프레임을 합치기\n",
    "merged_df = pd.concat(df_list, ignore_index=True)\n",
    "\n",
    "# '사용년월' 컬럼에서 월 부분을 추출하여 새로운 칼럼 만들기\n",
    "merged_df['Month'] = merged_df['사용년월'].astype(str).str[-2:]\n",
    "\n",
    "# 월이 같은 데이터들을 그룹화하여 승차총승객수 합치기\n",
    "monthly_passengers = merged_df.groupby('Month')['승차총승객수'].sum().reset_index()\n",
    "\n",
    "# 한글 폰트 설정\n",
    "font_path = 'C:/Windows/Fonts/malgun.ttf'  # 'Malgun Gothic' 폰트의 경로로 수정\n",
    "font_name = font_manager.FontProperties(fname=font_path).get_name()\n",
    "rc('font', family=font_name)\n",
    "\n",
    "# 결과를 시각화\n",
    "plt.bar(monthly_passengers['Month'], monthly_passengers['승차총승객수'])\n",
    "plt.xlabel('월')\n",
    "plt.ylabel('승차총승객수 (백만)')\n",
    "plt.title('월별 승차총승객수(2015 ~ 2023)')\n",
    "\n",
    "# y축 단위를 '백만'으로 표시하되, 소수점 둘째 자리까지 표시\n",
    "plt.gca().yaxis.set_major_formatter(FuncFormatter(lambda x, _: '{:,.2f}'.format(x/1e6)))\n",
    "\n",
    "plt.show()"
   ]
  },
  {
   "cell_type": "code",
   "execution_count": 2,
   "id": "c839e107",
   "metadata": {},
   "outputs": [
    {
     "data": {
      "image/png": "[encoded data removed]",
      "text/plain": [
       "<Figure size 432x288 with 1 Axes>"
      ]
     },
     "metadata": {
      "needs_background": "light"
     },
     "output_type": "display_data"
    }
   ],
   "source": [
    "import os\n",
    "import pandas as pd\n",
    "import matplotlib.pyplot as plt\n",
    "from matplotlib.ticker import FuncFormatter\n",
    "from matplotlib import font_manager, rc\n",
    "\n",
    "# 파일 경로\n",
    "folder_path = r'C:\\Users\\User\\Desktop\\BigData\\Dataset\\NBusDataset'\n",
    "\n",
    "# 2015년부터 2023년 파일들을 불러오기\n",
    "files_to_read = [f'{year}_NBusData.csv' for year in range(2015, 2021)]\n",
    "\n",
    "df_list = []  # 각 CSV 파일의 데이터프레임을 저장할 리스트\n",
    "\n",
    "for file in files_to_read:\n",
    "    file_path = os.path.join(folder_path, file)\n",
    "    # 'cp949' 인코딩을 사용하여 파일 읽기\n",
    "    df = pd.read_csv(file_path, encoding='cp949')\n",
    "    df_list.append(df)\n",
    "\n",
    "# 모든 데이터프레임을 합치기\n",
    "merged_df = pd.concat(df_list, ignore_index=True)\n",
    "\n",
    "# '사용년월' 컬럼에서 월 부분을 추출하여 새로운 칼럼 만들기\n",
    "merged_df['Month'] = merged_df['사용년월'].astype(str).str[-2:]\n",
    "\n",
    "# 월이 같은 데이터들을 그룹화하여 승차총승객수 합치기\n",
    "monthly_passengers = merged_df.groupby('Month')['승차총승객수'].sum().reset_index()\n",
    "\n",
    "# 한글 폰트 설정\n",
    "font_path = 'C:/Windows/Fonts/malgun.ttf'  # 'Malgun Gothic' 폰트의 경로로 수정\n",
    "font_name = font_manager.FontProperties(fname=font_path).get_name()\n",
    "rc('font', family=font_name)\n",
    "\n",
    "# 결과를 시각화\n",
    "plt.bar(monthly_passengers['Month'], monthly_passengers['승차총승객수'])\n",
    "plt.xlabel('월')\n",
    "plt.ylabel('승차총승객수 (백만)')\n",
    "plt.title('월별 승차총승객수(2015~2020)')\n",
    "\n",
    "# y축 단위를 '백만'으로 표시하되, 소수점 둘째 자리까지 표시\n",
    "plt.gca().yaxis.set_major_formatter(FuncFormatter(lambda x, _: '{:,.2f}'.format(x/1e6)))\n",
    "\n",
    "plt.show()"
   ]
  },
  {
   "cell_type": "code",
   "execution_count": 3,
   "id": "5d294afd",
   "metadata": {},
   "outputs": [
    {
     "data": {
      "image/png": "[encoded data removed]",
      "text/plain": [
       "<Figure size 432x288 with 1 Axes>"
      ]
     },
     "metadata": {
      "needs_background": "light"
     },
     "output_type": "display_data"
    }
   ],
   "source": [
    "import os\n",
    "import pandas as pd\n",
    "import matplotlib.pyplot as plt\n",
    "from matplotlib.ticker import FuncFormatter\n",
    "from matplotlib import font_manager, rc\n",
    "\n",
    "# 파일 경로\n",
    "folder_path = r'C:\\Users\\User\\Desktop\\BigData\\Dataset\\NBusDataset'\n",
    "\n",
    "# 2015년부터 2023년 파일들을 불러오기\n",
    "files_to_read = [f'{year}_NBusData.csv' for year in range(2021, 2024)]\n",
    "\n",
    "df_list = []  # 각 CSV 파일의 데이터프레임을 저장할 리스트\n",
    "\n",
    "for file in files_to_read:\n",
    "    file_path = os.path.join(folder_path, file)\n",
    "    # 'cp949' 인코딩을 사용하여 파일 읽기\n",
    "    df = pd.read_csv(file_path, encoding='cp949')\n",
    "    df_list.append(df)\n",
    "\n",
    "# 모든 데이터프레임을 합치기\n",
    "merged_df = pd.concat(df_list, ignore_index=True)\n",
    "\n",
    "# '사용년월' 컬럼에서 월 부분을 추출하여 새로운 칼럼 만들기\n",
    "merged_df['Month'] = merged_df['사용년월'].astype(str).str[-2:]\n",
    "\n",
    "# 월이 같은 데이터들을 그룹화하여 승차총승객수 합치기\n",
    "monthly_passengers = merged_df.groupby('Month')['승차총승객수'].sum().reset_index()\n",
    "\n",
    "# 한글 폰트 설정\n",
    "font_path = 'C:/Windows/Fonts/malgun.ttf'  # 'Malgun Gothic' 폰트의 경로로 수정\n",
    "font_name = font_manager.FontProperties(fname=font_path).get_name()\n",
    "rc('font', family=font_name)\n",
    "\n",
    "# 결과를 시각화\n",
    "plt.bar(monthly_passengers['Month'], monthly_passengers['승차총승객수'])\n",
    "plt.xlabel('월')\n",
    "plt.ylabel('승차총승객수 (백만)')\n",
    "plt.title('월별 승차총승객수(2021~2023)')\n",
    "\n",
    "# y축 단위를 '백만'으로 표시하되, 소수점 둘째 자리까지 표시\n",
    "plt.gca().yaxis.set_major_formatter(FuncFormatter(lambda x, _: '{:,.2f}'.format(x/1e6)))\n",
    "\n",
    "plt.show()"
   ]
  },
  {
   "cell_type": "code",
   "execution_count": null,
   "id": "575558d7",
   "metadata": {},
   "outputs": [],
   "source": []
  }
 ],
 "metadata": {
  "kernelspec": {
   "display_name": "Python 3 (ipykernel)",
   "language": "python",
   "name": "python3"
  },
  "language_info": {
   "codemirror_mode": {
    "name": "ipython",
    "version": 3
   },
   "file_extension": ".py",
   "mimetype": "text/x-python",
   "name": "python",
   "nbconvert_exporter": "python",
   "pygments_lexer": "ipython3",
   "version": "3.9.7"
  }
 },
 "nbformat": 4,
 "nbformat_minor": 5
}
